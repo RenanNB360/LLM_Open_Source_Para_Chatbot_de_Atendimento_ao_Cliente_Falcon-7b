{
 "cells": [
  {
   "cell_type": "markdown",
   "id": "f9c6871f-3966-4c62-947a-8254c5585a02",
   "metadata": {},
   "source": [
    "### Importações e Instalações"
   ]
  },
  {
   "cell_type": "code",
   "execution_count": 1,
   "id": "7b2c5935-e1fe-4355-98b7-4c699ec5088b",
   "metadata": {},
   "outputs": [],
   "source": [
    "import os\n",
    "import json\n",
    "import torch\n",
    "import evaluate\n",
    "import torch.nn as nn\n",
    "import transformers\n",
    "import bitsandbytes as bnb\n",
    "from transformers import AutoTokenizer, AutoConfig, AutoModelForCausalLM\n",
    "from transformers import BitsAndBytesConfig, pipeline\n",
    "from peft import LoraConfig, get_peft_model\n",
    "from datasets import Dataset, Features, ClassLabel, Value, Sequence\n",
    "import warnings\n",
    "warnings.filterwarnings('ignore')"
   ]
  },
  {
   "cell_type": "markdown",
   "id": "a15d1fca-c624-4b1c-8e64-24c1156be843",
   "metadata": {},
   "source": [
    "if torch.cuda.is_available():\n",
    "    print(f'Número de GPUs: {torch.cuda.device_count()}')\n",
    "    print(f'Modelo GPU: {torch.cuda.get_device_name(0)}')\n",
    "    print(f'Total Memória [GB] da GPU: {torch.cuda.get_device_properties(0).total_memory / 1e9}')"
   ]
  },
  {
   "cell_type": "markdown",
   "id": "714491ba-3afe-4bee-a8d7-1d0606b106ad",
   "metadata": {},
   "source": [
    "### Definindo os Parâmetros de Quantização"
   ]
  },
  {
   "cell_type": "code",
   "execution_count": 3,
   "id": "bf724fd4-42d8-449c-b1ab-dcb8f0f6d7d4",
   "metadata": {},
   "outputs": [],
   "source": [
    "quantization_config = BitsAndBytesConfig(load_in_4bit = True,\n",
    "                                         bnb_4bit_compute_dtype = torch.float16,\n",
    "                                         bnb_4bit_quant_type = 'nf4',\n",
    "                                         bnb_4bit_use_double_quant = True,\n",
    "                                         llm_int8_enable_fp32_cpu_offload = True)"
   ]
  },
  {
   "cell_type": "markdown",
   "id": "a2b352c3-8494-4cab-a09e-b841fcc75ab7",
   "metadata": {},
   "source": [
    "### Carregando Modelo e Tokenizador"
   ]
  },
  {
   "cell_type": "code",
   "execution_count": 4,
   "id": "d62b9c74-2d6f-4d60-9eb0-de1e80fabda0",
   "metadata": {},
   "outputs": [
    {
     "data": {
      "application/vnd.jupyter.widget-view+json": {
       "model_id": "558bf63a4d7b4e46b4cc9af3bb1cd5bd",
       "version_major": 2,
       "version_minor": 0
      },
      "text/plain": [
       "Loading checkpoint shards:   0%|          | 0/2 [00:00<?, ?it/s]"
      ]
     },
     "metadata": {},
     "output_type": "display_data"
    }
   ],
   "source": [
    "modelo = AutoModelForCausalLM.from_pretrained('tiiuae/falcon-7b',\n",
    "                                              quantization_config = quantization_config,\n",
    "                                              device_map = 'auto')"
   ]
  },
  {
   "cell_type": "code",
   "execution_count": 5,
   "id": "e6ca7e6d-680d-4e5f-a83d-538d6d4247be",
   "metadata": {},
   "outputs": [],
   "source": [
    "tokenizador = AutoTokenizer.from_pretrained('tiiuae/falcon-7b')"
   ]
  },
  {
   "cell_type": "markdown",
   "id": "d781f7d7-40b4-4f65-9bc0-840799780003",
   "metadata": {},
   "source": [
    "### Congelando os Pesos Originais"
   ]
  },
  {
   "cell_type": "code",
   "execution_count": 6,
   "id": "2ca5a66e-83c8-41f9-bdf3-f9e6648197f2",
   "metadata": {},
   "outputs": [],
   "source": [
    "for param in modelo.parameters():\n",
    "    param.requires_grad = False\n",
    "    if param.ndim == 1:\n",
    "        param.data = param.data.to(torch.float32)"
   ]
  },
  {
   "cell_type": "markdown",
   "id": "f29d3278-56a4-43d3-b4ca-d68a5aaf5771",
   "metadata": {},
   "source": [
    "### Ativando o Checkpoint de Gradientes do Modelo"
   ]
  },
  {
   "cell_type": "code",
   "execution_count": 8,
   "id": "32225674-39b1-4d3a-a3fa-ec93eee88488",
   "metadata": {},
   "outputs": [],
   "source": [
    "modelo.gradient_checkpointing_enable()"
   ]
  },
  {
   "cell_type": "code",
   "execution_count": 9,
   "id": "ad40a9c7-175b-45e5-8d9e-2bdc218c8f8a",
   "metadata": {},
   "outputs": [],
   "source": [
    "modelo.enable_input_require_grads()"
   ]
  },
  {
   "cell_type": "markdown",
   "id": "e5ed3e9b-4862-466a-8fdc-9a06d76e0110",
   "metadata": {},
   "source": [
    "### Ajustando a Conversão para Tensor"
   ]
  },
  {
   "cell_type": "code",
   "execution_count": 10,
   "id": "b73b4064-bbf4-420e-b779-99b31b98e48c",
   "metadata": {},
   "outputs": [],
   "source": [
    "class CastOutputToFloat(nn.Sequential):\n",
    "    def forward(self, x): return super().forward(x).to(torch.float32)"
   ]
  },
  {
   "cell_type": "code",
   "execution_count": 11,
   "id": "626f368b-32c7-4cb4-934b-fb1e54ef4d46",
   "metadata": {},
   "outputs": [],
   "source": [
    "modelo.lm_head = CastOutputToFloat(modelo.lm_head)"
   ]
  },
  {
   "cell_type": "markdown",
   "id": "7801ecbc-a880-4a2f-8882-aa99d9b0474f",
   "metadata": {},
   "source": [
    "### Definindo os Parâmetros do Ajuste Fino"
   ]
  },
  {
   "cell_type": "code",
   "execution_count": 12,
   "id": "9b4ecd09-c78e-4b3d-aa28-d64211ace079",
   "metadata": {},
   "outputs": [],
   "source": [
    "config = LoraConfig(r = 16,\n",
    "                    lora_alpha = 32,\n",
    "                    lora_dropout = 0.05,\n",
    "                    bias = 'none',\n",
    "                    task_type = 'CAUSAL_LM')"
   ]
  },
  {
   "cell_type": "code",
   "execution_count": 13,
   "id": "183c32ad-10a7-479d-92ed-1a724fb00d39",
   "metadata": {},
   "outputs": [],
   "source": [
    "modelo = get_peft_model(modelo, config)"
   ]
  },
  {
   "cell_type": "code",
   "execution_count": 18,
   "id": "1e271396-c558-4d8a-b178-24a3c4ba1866",
   "metadata": {},
   "outputs": [],
   "source": [
    "def print_trainable_parameters(model):\n",
    "    trainable_params = 0\n",
    "    all_param = 0\n",
    "    for _, param in model.named_parameters():\n",
    "        all_param += param.numel()\n",
    "        if param.requires_grad:\n",
    "            trainable_params += param.numel()\n",
    "    print(f'trainable params: {trainable_params} || all params: {all_param} || trainable: {100 * (trainable_params / all_param):.2f}%')"
   ]
  },
  {
   "cell_type": "code",
   "execution_count": 19,
   "id": "05741a66-200d-42e4-b822-5735817dccba",
   "metadata": {},
   "outputs": [
    {
     "name": "stdout",
     "output_type": "stream",
     "text": [
      "trainable params: 4718592 || all params: 3613463424 || trainable: 0.13%\n"
     ]
    }
   ],
   "source": [
    "print_trainable_parameters(modelo)"
   ]
  },
  {
   "cell_type": "markdown",
   "id": "78e5eeba-7b59-4962-8a7f-b46845056dc2",
   "metadata": {},
   "source": [
    "### Processamento dos Dados"
   ]
  },
  {
   "cell_type": "code",
   "execution_count": 20,
   "id": "31e97e12-fa07-46a6-8d84-db12ce98297e",
   "metadata": {},
   "outputs": [],
   "source": [
    "arquivo = open('dataset.json')"
   ]
  },
  {
   "cell_type": "code",
   "execution_count": 21,
   "id": "019fb606-0b6c-48a2-9a88-7d860abcee30",
   "metadata": {},
   "outputs": [],
   "source": [
    "dados = json.load(arquivo)"
   ]
  },
  {
   "cell_type": "code",
   "execution_count": 22,
   "id": "6732d876-5b32-4aaf-b4af-d780e6d98e69",
   "metadata": {},
   "outputs": [
    {
     "data": {
      "text/plain": [
       "{'perguntas': [{'pergunta': 'Como posso criar uma conta?',\n",
       "   'resposta': 'Para criar uma conta, clique no botão ‘Cadastre-se’ no canto superior direito do nosso site e siga as instruções para concluir o processo de registro.'},\n",
       "  {'pergunta': 'Que tipos de pagamentos você aceita?',\n",
       "   'resposta': 'Aceitamos os principais cartões de crédito, cartões de débito e PayPal como métodos de pagamento para pedidos online.'},\n",
       "  {'pergunta': 'Como posso rastrear meu pedido?',\n",
       "   'resposta': 'Você pode acompanhar seu pedido fazendo login em sua conta e navegando até a seção ‘Histórico de pedidos’. Lá você encontrará as informações de rastreamento da sua remessa.'},\n",
       "  {'pergunta': 'Qual é a sua política de devolução?',\n",
       "   'resposta': 'Nossa política de devolução permite que você devolva produtos no prazo de 7 dias após a compra e receba reembolso total, desde que estejam em suas condições e embalagens originais. Consulte nossa página de devoluções para obter instruções detalhadas.'},\n",
       "  {'pergunta': 'Posso cancelar meu pedido?',\n",
       "   'resposta': 'Você pode cancelar seu pedido se ele ainda não tiver sido enviado. Entre em contato com nossa equipe de suporte ao cliente com os detalhes do seu pedido e nós o ajudaremos com o processo de cancelamento.'},\n",
       "  {'pergunta': 'Quanto tempo leva o envio?',\n",
       "   'resposta': 'Os tempos de envio variam dependendo do destino e do método de envio escolhido. O envio padrão geralmente leva de 3 a 5 dias úteis, enquanto o envio expresso pode levar de 1 a 2 dias úteis.'}]}"
      ]
     },
     "execution_count": 22,
     "metadata": {},
     "output_type": "execute_result"
    }
   ],
   "source": [
    "dados"
   ]
  },
  {
   "cell_type": "code",
   "execution_count": 25,
   "id": "044faa46-5601-4ac5-9861-9299e1b42d78",
   "metadata": {},
   "outputs": [],
   "source": [
    "perguntas = []\n",
    "respostas = []"
   ]
  },
  {
   "cell_type": "code",
   "execution_count": 26,
   "id": "15254660-e595-46ef-9e57-9958d74d7de4",
   "metadata": {},
   "outputs": [],
   "source": [
    "for i in dados['perguntas']:\n",
    "    perguntas += [i['pergunta']]\n",
    "    respostas += [i['resposta']]"
   ]
  },
  {
   "cell_type": "code",
   "execution_count": 27,
   "id": "c5571b61-190b-452d-91a1-ee2836a04552",
   "metadata": {},
   "outputs": [
    {
     "data": {
      "text/plain": [
       "{'pergunta': 'Como posso criar uma conta?',\n",
       " 'resposta': 'Para criar uma conta, clique no botão ‘Cadastre-se’ no canto superior direito do nosso site e siga as instruções para concluir o processo de registro.'}"
      ]
     },
     "execution_count": 27,
     "metadata": {},
     "output_type": "execute_result"
    }
   ],
   "source": [
    "dados['perguntas'][0]"
   ]
  },
  {
   "cell_type": "code",
   "execution_count": 28,
   "id": "37f01ba0-92ef-466c-9589-0a7a7817d777",
   "metadata": {},
   "outputs": [
    {
     "data": {
      "text/plain": [
       "'Como posso criar uma conta?'"
      ]
     },
     "execution_count": 28,
     "metadata": {},
     "output_type": "execute_result"
    }
   ],
   "source": [
    "perguntas[0]"
   ]
  },
  {
   "cell_type": "code",
   "execution_count": 29,
   "id": "6d044e04-75ba-405b-b4a2-f7c7e6d44c3d",
   "metadata": {},
   "outputs": [
    {
     "data": {
      "text/plain": [
       "'Para criar uma conta, clique no botão ‘Cadastre-se’ no canto superior direito do nosso site e siga as instruções para concluir o processo de registro.'"
      ]
     },
     "execution_count": 29,
     "metadata": {},
     "output_type": "execute_result"
    }
   ],
   "source": [
    "respostas[0]"
   ]
  },
  {
   "cell_type": "code",
   "execution_count": 30,
   "id": "33c23ea5-6e64-4fd1-95a3-f649eed7edd7",
   "metadata": {},
   "outputs": [],
   "source": [
    "dataset = Dataset.from_dict({'id': list(range(len(perguntas))),\n",
    "                             'perguntas': perguntas,\n",
    "                             'respostas': respostas},\n",
    "                            features = Features({'id': Value(dtype = 'string'),\n",
    "                                                 'perguntas': Value(dtype = 'string'),\n",
    "                                                 'respostas': Value(dtype = 'string')}\n",
    "                                               )\n",
    "                           )"
   ]
  },
  {
   "cell_type": "code",
   "execution_count": 32,
   "id": "b670c8c5-1e10-4af8-b86e-4fcc5624c993",
   "metadata": {},
   "outputs": [],
   "source": [
    "dataset = dataset.train_test_split(test_size = 0.15)"
   ]
  },
  {
   "cell_type": "code",
   "execution_count": 33,
   "id": "e2d9e462-e406-47fb-9646-c8285444491f",
   "metadata": {},
   "outputs": [],
   "source": [
    "def merge_columns(registro):\n",
    "    registro['saida'] = registro['perguntas'] + ' ->: ' + registro['respostas']\n",
    "    return registro"
   ]
  },
  {
   "cell_type": "code",
   "execution_count": 34,
   "id": "0b0d171a-89d6-47a0-b348-efefa05690de",
   "metadata": {},
   "outputs": [
    {
     "data": {
      "application/vnd.jupyter.widget-view+json": {
       "model_id": "91788ad40599430d96a5c75c17426aa4",
       "version_major": 2,
       "version_minor": 0
      },
      "text/plain": [
       "Map:   0%|          | 0/5 [00:00<?, ? examples/s]"
      ]
     },
     "metadata": {},
     "output_type": "display_data"
    },
    {
     "data": {
      "application/vnd.jupyter.widget-view+json": {
       "model_id": "b0d33dbfc83640848a11193aa856f115",
       "version_major": 2,
       "version_minor": 0
      },
      "text/plain": [
       "Map:   0%|          | 0/1 [00:00<?, ? examples/s]"
      ]
     },
     "metadata": {},
     "output_type": "display_data"
    }
   ],
   "source": [
    "dataset = dataset.map(merge_columns)"
   ]
  },
  {
   "cell_type": "code",
   "execution_count": 35,
   "id": "7b15d84c-2277-478e-b710-c9852ca97730",
   "metadata": {},
   "outputs": [
    {
     "data": {
      "text/plain": [
       "'Qual é a sua política de devolução? ->: Nossa política de devolução permite que você devolva produtos no prazo de 7 dias após a compra e receba reembolso total, desde que estejam em suas condições e embalagens originais. Consulte nossa página de devoluções para obter instruções detalhadas.'"
      ]
     },
     "execution_count": 35,
     "metadata": {},
     "output_type": "execute_result"
    }
   ],
   "source": [
    "dataset['train']['saida'][0]"
   ]
  },
  {
   "cell_type": "code",
   "execution_count": 36,
   "id": "94165f04-548f-4f9a-9af6-c50ec3177937",
   "metadata": {},
   "outputs": [
    {
     "data": {
      "text/plain": [
       "{'id': '3',\n",
       " 'perguntas': 'Qual é a sua política de devolução?',\n",
       " 'respostas': 'Nossa política de devolução permite que você devolva produtos no prazo de 7 dias após a compra e receba reembolso total, desde que estejam em suas condições e embalagens originais. Consulte nossa página de devoluções para obter instruções detalhadas.',\n",
       " 'saida': 'Qual é a sua política de devolução? ->: Nossa política de devolução permite que você devolva produtos no prazo de 7 dias após a compra e receba reembolso total, desde que estejam em suas condições e embalagens originais. Consulte nossa página de devoluções para obter instruções detalhadas.'}"
      ]
     },
     "execution_count": 36,
     "metadata": {},
     "output_type": "execute_result"
    }
   ],
   "source": [
    "dataset['train'][0]"
   ]
  },
  {
   "cell_type": "code",
   "execution_count": 38,
   "id": "2ad45dae-bbb3-4ab3-9a5d-a7bce518548b",
   "metadata": {},
   "outputs": [
    {
     "data": {
      "application/vnd.jupyter.widget-view+json": {
       "model_id": "352e61c5d8d5412183db32064b50756e",
       "version_major": 2,
       "version_minor": 0
      },
      "text/plain": [
       "Map:   0%|          | 0/5 [00:00<?, ? examples/s]"
      ]
     },
     "metadata": {},
     "output_type": "display_data"
    },
    {
     "data": {
      "application/vnd.jupyter.widget-view+json": {
       "model_id": "f6a1110cd72e4820b82cb499fd772567",
       "version_major": 2,
       "version_minor": 0
      },
      "text/plain": [
       "Map:   0%|          | 0/1 [00:00<?, ? examples/s]"
      ]
     },
     "metadata": {},
     "output_type": "display_data"
    }
   ],
   "source": [
    "dataset = dataset.map(lambda samples: tokenizador(samples['saida']), batched = True)"
   ]
  },
  {
   "cell_type": "code",
   "execution_count": 39,
   "id": "644069d4-c153-4bcd-a83d-bddd9d1a1061",
   "metadata": {},
   "outputs": [
    {
     "data": {
      "text/plain": [
       "{'id': '3',\n",
       " 'perguntas': 'Qual é a sua política de devolução?',\n",
       " 'respostas': 'Nossa política de devolução permite que você devolva produtos no prazo de 7 dias após a compra e receba reembolso total, desde que estejam em suas condições e embalagens originais. Consulte nossa página de devoluções para obter instruções detalhadas.',\n",
       " 'saida': 'Qual é a sua política de devolução? ->: Nossa política de devolução permite que você devolva produtos no prazo de 7 dias após a compra e receba reembolso total, desde que estejam em suas condições e embalagens originais. Consulte nossa página de devoluções para obter instruções detalhadas.',\n",
       " 'input_ids': [22892,\n",
       "  1685,\n",
       "  241,\n",
       "  9828,\n",
       "  34919,\n",
       "  336,\n",
       "  1612,\n",
       "  32228,\n",
       "  5372,\n",
       "  42,\n",
       "  204,\n",
       "  1579,\n",
       "  37,\n",
       "  409,\n",
       "  31764,\n",
       "  34919,\n",
       "  336,\n",
       "  1612,\n",
       "  32228,\n",
       "  5372,\n",
       "  30326,\n",
       "  877,\n",
       "  17200,\n",
       "  1612,\n",
       "  315,\n",
       "  3095,\n",
       "  64650,\n",
       "  658,\n",
       "  7179,\n",
       "  5173,\n",
       "  336,\n",
       "  204,\n",
       "  34,\n",
       "  31687,\n",
       "  55697,\n",
       "  123,\n",
       "  94,\n",
       "  241,\n",
       "  42641,\n",
       "  293,\n",
       "  1477,\n",
       "  4975,\n",
       "  292,\n",
       "  357,\n",
       "  4016,\n",
       "  530,\n",
       "  2724,\n",
       "  23,\n",
       "  11523,\n",
       "  877,\n",
       "  5526,\n",
       "  37188,\n",
       "  732,\n",
       "  37682,\n",
       "  1677,\n",
       "  43439,\n",
       "  293,\n",
       "  3862,\n",
       "  268,\n",
       "  39866,\n",
       "  2076,\n",
       "  1317,\n",
       "  259,\n",
       "  25,\n",
       "  3286,\n",
       "  36955,\n",
       "  55475,\n",
       "  38728,\n",
       "  336,\n",
       "  1612,\n",
       "  32228,\n",
       "  13662,\n",
       "  2179,\n",
       "  1070,\n",
       "  342,\n",
       "  55469,\n",
       "  13662,\n",
       "  57953,\n",
       "  83,\n",
       "  6992,\n",
       "  25],\n",
       " 'attention_mask': [1,\n",
       "  1,\n",
       "  1,\n",
       "  1,\n",
       "  1,\n",
       "  1,\n",
       "  1,\n",
       "  1,\n",
       "  1,\n",
       "  1,\n",
       "  1,\n",
       "  1,\n",
       "  1,\n",
       "  1,\n",
       "  1,\n",
       "  1,\n",
       "  1,\n",
       "  1,\n",
       "  1,\n",
       "  1,\n",
       "  1,\n",
       "  1,\n",
       "  1,\n",
       "  1,\n",
       "  1,\n",
       "  1,\n",
       "  1,\n",
       "  1,\n",
       "  1,\n",
       "  1,\n",
       "  1,\n",
       "  1,\n",
       "  1,\n",
       "  1,\n",
       "  1,\n",
       "  1,\n",
       "  1,\n",
       "  1,\n",
       "  1,\n",
       "  1,\n",
       "  1,\n",
       "  1,\n",
       "  1,\n",
       "  1,\n",
       "  1,\n",
       "  1,\n",
       "  1,\n",
       "  1,\n",
       "  1,\n",
       "  1,\n",
       "  1,\n",
       "  1,\n",
       "  1,\n",
       "  1,\n",
       "  1,\n",
       "  1,\n",
       "  1,\n",
       "  1,\n",
       "  1,\n",
       "  1,\n",
       "  1,\n",
       "  1,\n",
       "  1,\n",
       "  1,\n",
       "  1,\n",
       "  1,\n",
       "  1,\n",
       "  1,\n",
       "  1,\n",
       "  1,\n",
       "  1,\n",
       "  1,\n",
       "  1,\n",
       "  1,\n",
       "  1,\n",
       "  1,\n",
       "  1,\n",
       "  1,\n",
       "  1,\n",
       "  1,\n",
       "  1]}"
      ]
     },
     "execution_count": 39,
     "metadata": {},
     "output_type": "execute_result"
    }
   ],
   "source": [
    "dataset['train'][0]"
   ]
  },
  {
   "cell_type": "markdown",
   "id": "c3b2f992-2ab3-4089-9900-5084862b70ef",
   "metadata": {},
   "source": [
    "### Definindo os argumentos de Treino"
   ]
  },
  {
   "cell_type": "code",
   "execution_count": 40,
   "id": "b49d98ab-bdb9-48b4-b104-950d2e0cf505",
   "metadata": {},
   "outputs": [],
   "source": [
    "if tokenizador.pad_token == None:\n",
    "    tokenizador.pad_token = tokenizador.eos_token"
   ]
  },
  {
   "cell_type": "code",
   "execution_count": 42,
   "id": "30020045-c2e1-422b-aaeb-80c00eb0d40c",
   "metadata": {},
   "outputs": [],
   "source": [
    "trainer = transformers.Trainer(model = modelo,\n",
    "                               train_dataset = dataset['train'],\n",
    "                               eval_dataset = dataset['test'],\n",
    "                               args = transformers.TrainingArguments(evaluation_strategy = 'epoch',\n",
    "                                                                    per_device_train_batch_size = 2,\n",
    "                                                                    gradient_accumulation_steps = 2,\n",
    "                                                                    num_train_epochs = 10,\n",
    "                                                                    learning_rate = 2e-4,\n",
    "                                                                    fp16 = True,\n",
    "                                                                    logging_steps = 1,\n",
    "                                                                    output_dir = 'outputs'),\n",
    "                               data_collator = transformers.DataCollatorForLanguageModeling(tokenizador, mlm = False))"
   ]
  },
  {
   "cell_type": "markdown",
   "id": "c225445b-bb1d-4d1e-bde9-48baae197693",
   "metadata": {},
   "source": [
    "### Treinamento do Modelo"
   ]
  },
  {
   "cell_type": "code",
   "execution_count": 43,
   "id": "6863bca8-bb97-42b8-b60e-44285e2a2218",
   "metadata": {},
   "outputs": [],
   "source": [
    "modelo.config.use_cache = False"
   ]
  },
  {
   "cell_type": "code",
   "execution_count": 44,
   "id": "14381eb3-81fc-4d4d-a70c-0733cae01a0c",
   "metadata": {},
   "outputs": [
    {
     "data": {
      "text/html": [
       "\n",
       "    <div>\n",
       "      \n",
       "      <progress value='10' max='10' style='width:300px; height:20px; vertical-align: middle;'></progress>\n",
       "      [10/10 00:22, Epoch 6/10]\n",
       "    </div>\n",
       "    <table border=\"1\" class=\"dataframe\">\n",
       "  <thead>\n",
       " <tr style=\"text-align: left;\">\n",
       "      <th>Epoch</th>\n",
       "      <th>Training Loss</th>\n",
       "      <th>Validation Loss</th>\n",
       "    </tr>\n",
       "  </thead>\n",
       "  <tbody>\n",
       "    <tr>\n",
       "      <td>0</td>\n",
       "      <td>1.704200</td>\n",
       "      <td>2.041056</td>\n",
       "    </tr>\n",
       "    <tr>\n",
       "      <td>2</td>\n",
       "      <td>1.701700</td>\n",
       "      <td>2.015548</td>\n",
       "    </tr>\n",
       "    <tr>\n",
       "      <td>4</td>\n",
       "      <td>1.598900</td>\n",
       "      <td>1.985905</td>\n",
       "    </tr>\n",
       "    <tr>\n",
       "      <td>6</td>\n",
       "      <td>1.552200</td>\n",
       "      <td>1.971113</td>\n",
       "    </tr>\n",
       "  </tbody>\n",
       "</table><p>"
      ],
      "text/plain": [
       "<IPython.core.display.HTML object>"
      ]
     },
     "metadata": {},
     "output_type": "display_data"
    },
    {
     "data": {
      "text/plain": [
       "TrainOutput(global_step=10, training_loss=1.702253246307373, metrics={'train_runtime': 25.6199, 'train_samples_per_second': 1.952, 'train_steps_per_second': 0.39, 'total_flos': 95406399813120.0, 'train_loss': 1.702253246307373, 'epoch': 6.666666666666667})"
      ]
     },
     "execution_count": 44,
     "metadata": {},
     "output_type": "execute_result"
    }
   ],
   "source": [
    "trainer.train()"
   ]
  },
  {
   "cell_type": "markdown",
   "id": "c0fee46c-bfc3-4b8f-bc04-f29a292541f0",
   "metadata": {},
   "source": [
    "### Avaliação do Modelo"
   ]
  },
  {
   "cell_type": "code",
   "execution_count": 45,
   "id": "67156478-33db-4998-aad4-2a6cbb69444e",
   "metadata": {},
   "outputs": [],
   "source": [
    "def predict(question):\n",
    "    batch = tokenizador(f'{question} ->: ', return_tensors = 'pt')\n",
    "    with torch.cuda.amp.autocast():\n",
    "        output_tokens = modelo.generate(**batch, max_new_tokens = 50)\n",
    "    return tokenizador.decode(output_tokens[0], skip_special_tokens = True)"
   ]
  },
  {
   "cell_type": "code",
   "execution_count": 46,
   "id": "6f66e4a6-807c-4d21-89d0-f06230d8b88c",
   "metadata": {},
   "outputs": [],
   "source": [
    "previsoes = []"
   ]
  },
  {
   "cell_type": "code",
   "execution_count": 47,
   "id": "67182709-46d5-423d-af88-f5b796e72553",
   "metadata": {},
   "outputs": [
    {
     "name": "stderr",
     "output_type": "stream",
     "text": [
      "Setting `pad_token_id` to `eos_token_id`:11 for open-end generation.\n"
     ]
    }
   ],
   "source": [
    "for i in dataset['test']['perguntas']:\n",
    "    previsoes.append(predict(i))"
   ]
  },
  {
   "cell_type": "markdown",
   "id": "9584e5dd-5726-4191-8fae-ab32ca6390d7",
   "metadata": {},
   "source": [
    "#### Interpretando a Métrica"
   ]
  },
  {
   "cell_type": "code",
   "execution_count": 49,
   "id": "08e5c342-1e3e-44aa-b958-c537395ffe79",
   "metadata": {},
   "outputs": [
    {
     "data": {
      "application/vnd.jupyter.widget-view+json": {
       "model_id": "562675fa17c347c7aa6caa716a8d6f9c",
       "version_major": 2,
       "version_minor": 0
      },
      "text/plain": [
       "Downloading builder script:   0%|          | 0.00/5.94k [00:00<?, ?B/s]"
      ]
     },
     "metadata": {},
     "output_type": "display_data"
    },
    {
     "data": {
      "application/vnd.jupyter.widget-view+json": {
       "model_id": "9c244f1f6f4343fba4614912a007f770",
       "version_major": 2,
       "version_minor": 0
      },
      "text/plain": [
       "Downloading extra modules:   0%|          | 0.00/1.55k [00:00<?, ?B/s]"
      ]
     },
     "metadata": {},
     "output_type": "display_data"
    },
    {
     "data": {
      "application/vnd.jupyter.widget-view+json": {
       "model_id": "d5cea36949864b93a91590bfc858554f",
       "version_major": 2,
       "version_minor": 0
      },
      "text/plain": [
       "Downloading extra modules:   0%|          | 0.00/3.34k [00:00<?, ?B/s]"
      ]
     },
     "metadata": {},
     "output_type": "display_data"
    }
   ],
   "source": [
    "bleu = evaluate.load('bleu')"
   ]
  },
  {
   "cell_type": "code",
   "execution_count": 51,
   "id": "e6a33c48-a2b4-438b-97fa-de074ca03676",
   "metadata": {},
   "outputs": [],
   "source": [
    "dados_reais = dataset['test']['saida']"
   ]
  },
  {
   "cell_type": "code",
   "execution_count": 52,
   "id": "a8c32af2-a7f4-450b-9699-2bf3f51f8c94",
   "metadata": {},
   "outputs": [],
   "source": [
    "resultado = bleu.compute(predictions = previsoes, references = dados_reais)"
   ]
  },
  {
   "cell_type": "code",
   "execution_count": 53,
   "id": "ba857ce5-b7b8-4abc-9967-f19f4b2c1fb1",
   "metadata": {},
   "outputs": [
    {
     "data": {
      "text/plain": [
       "{'bleu': 0.1875605774134788,\n",
       " 'precisions': [0.2727272727272727,\n",
       "  0.18604651162790697,\n",
       "  0.16666666666666666,\n",
       "  0.14634146341463414],\n",
       " 'brevity_penalty': 1.0,\n",
       " 'length_ratio': 1.1282051282051282,\n",
       " 'translation_length': 44,\n",
       " 'reference_length': 39}"
      ]
     },
     "execution_count": 53,
     "metadata": {},
     "output_type": "execute_result"
    }
   ],
   "source": [
    "resultado"
   ]
  },
  {
   "cell_type": "markdown",
   "id": "9aac8084-1e7a-457b-89ca-b858b916e625",
   "metadata": {},
   "source": [
    "### Deploy e Uso do Modelo"
   ]
  },
  {
   "cell_type": "code",
   "execution_count": 54,
   "id": "60c7d5cb-ea6e-4a07-981d-3fad78443878",
   "metadata": {},
   "outputs": [],
   "source": [
    "nova_pergunta = 'Como posso criar uma conta?'"
   ]
  },
  {
   "cell_type": "code",
   "execution_count": 56,
   "id": "652d688d-e53f-478b-a227-9536ddfe12c9",
   "metadata": {},
   "outputs": [],
   "source": [
    "pergunta_tokenizada = tokenizador(f'{nova_pergunta} ->: ', return_tensors = 'pt')"
   ]
  },
  {
   "cell_type": "code",
   "execution_count": 57,
   "id": "a7f0b4de-d3ea-449d-b5e9-813050a5d207",
   "metadata": {},
   "outputs": [
    {
     "data": {
      "text/plain": [
       "{'input_ids': tensor([[33303, 45507, 20122,   270,  8569, 48185,    42,   204,  1579,    37,\n",
       "           204]]), 'attention_mask': tensor([[1, 1, 1, 1, 1, 1, 1, 1, 1, 1, 1]])}"
      ]
     },
     "execution_count": 57,
     "metadata": {},
     "output_type": "execute_result"
    }
   ],
   "source": [
    "pergunta_tokenizada"
   ]
  },
  {
   "cell_type": "code",
   "execution_count": 58,
   "id": "a9bac652-669e-4ad7-9445-8fca1803b824",
   "metadata": {},
   "outputs": [
    {
     "name": "stderr",
     "output_type": "stream",
     "text": [
      "Setting `pad_token_id` to `eos_token_id`:11 for open-end generation.\n"
     ]
    }
   ],
   "source": [
    "with torch.cuda.amp.autocast():\n",
    "    previsao_tokens = modelo.generate(**pergunta_tokenizada, max_new_tokens = 50)"
   ]
  },
  {
   "cell_type": "code",
   "execution_count": 59,
   "id": "bc9c2733-c5f1-4622-a42d-d7d5862e1614",
   "metadata": {},
   "outputs": [
    {
     "data": {
      "text/plain": [
       "'Como posso criar uma conta? ->: 1. Clique no botão \"Criar conta\" 2. Digite seu nome, e seu e-mail 3. Digite seu senha 4. Clique no botão \"Criar conta\"'"
      ]
     },
     "execution_count": 59,
     "metadata": {},
     "output_type": "execute_result"
    }
   ],
   "source": [
    "tokenizador.decode(previsao_tokens[0], skip_special_tokens = True)"
   ]
  }
 ],
 "metadata": {
  "kernelspec": {
   "display_name": "Python 3 (ipykernel)",
   "language": "python",
   "name": "python3"
  },
  "language_info": {
   "codemirror_mode": {
    "name": "ipython",
    "version": 3
   },
   "file_extension": ".py",
   "mimetype": "text/x-python",
   "name": "python",
   "nbconvert_exporter": "python",
   "pygments_lexer": "ipython3",
   "version": "3.11.9"
  }
 },
 "nbformat": 4,
 "nbformat_minor": 5
}
